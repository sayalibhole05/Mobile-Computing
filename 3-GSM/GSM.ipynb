{
  "metadata": {
    "language_info": {
      "codemirror_mode": {
        "name": "python",
        "version": 3
      },
      "file_extension": ".py",
      "mimetype": "text/x-python",
      "name": "python",
      "nbconvert_exporter": "python",
      "pygments_lexer": "ipython3",
      "version": "3.8"
    },
    "kernelspec": {
      "name": "python",
      "display_name": "Python (Pyodide)",
      "language": "python"
    }
  },
  "nbformat_minor": 4,
  "nbformat": 4,
  "cells": [
    {
      "cell_type": "code",
      "source": "import random\n\nk=random.getrandbits(128)\nm=random.getrandbits(128)\nkb=bin(k)[2:]\nmb=bin(m)[2:]\nkbl=kb[0:64]\nkbr=kb[64:]\nmbl=mb[0:64]\nmbr=mb[64:]\na1=int(kbl,2)^int(mbr,2)\na2=int(kbr,2)^int(mbl,2)\na3=a1^a2\na4=bin(a3)[2:].zfill(64)\na5=a4[0:32]\na6=a4[32:]\na7=int(a5,2)^int(a6,2)\nprint(\"128 Bit Key = \",kb)\nprint(\"128 Random Bits Generated = \",mb)\nprint(\"RES/SRES = \",bin(a7)[2:].zfill(len(a5)))",
      "metadata": {
        "trusted": true
      },
      "execution_count": 1,
      "outputs": [
        {
          "name": "stdout",
          "text": "128 Bit Key =  11100100010010000011111010101011001010000001000010100001000001100001001010001100001101000011110001101010011001110000100011101001\n128 Random Bits Generated =  1011101110111001011011110000011111111001001001110000101100111110011000101111000011010111001110110111111010010111100000001010100\nRES/SRES =  01111000000111100110110010001000\n",
          "output_type": "stream"
        }
      ]
    },
    {
      "cell_type": "code",
      "source": "",
      "metadata": {},
      "execution_count": null,
      "outputs": []
    }
  ]
}